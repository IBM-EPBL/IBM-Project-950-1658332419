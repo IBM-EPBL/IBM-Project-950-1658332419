{
 "cells": [
  {
   "cell_type": "markdown",
   "metadata": {},
   "source": [
    "### Import necessary libraries"
   ]
  },
  {
   "cell_type": "code",
   "execution_count": 1,
   "metadata": {},
   "outputs": [],
   "source": [
    "import requests\n",
    "import numpy as np\n",
    "from PIL import Image, ImageOps\n",
    "import matplotlib.pyplot as plt"
   ]
  },
  {
   "cell_type": "markdown",
   "metadata": {},
   "source": [
    "### Input pre-processing"
   ]
  },
  {
   "cell_type": "code",
   "execution_count": 2,
   "metadata": {},
   "outputs": [],
   "source": [
    "img = Image.open(f\"./sample/sample.png\").convert(\"L\")\n",
    "img = ImageOps.invert(img)\n",
    "img = img.resize((28, 28))\n",
    "img_arr = np.array(img)\n",
    "img_arr = img_arr / 255.0\n",
    "img_arr = img_arr.reshape(28, 28, 1)"
   ]
  },
  {
   "cell_type": "markdown",
   "metadata": {},
   "source": [
    "### Get results from the deployed model"
   ]
  },
  {
   "cell_type": "code",
   "execution_count": 3,
   "metadata": {},
   "outputs": [],
   "source": [
    "API_KEY = \"qyrJtdFzG7YfxKOEng8P0KKNr7-rLFOU7IvWtqfZKGQN\" \n",
    "\n",
    "token_response = requests.post('https://iam.cloud.ibm.com/identity/token', \n",
    "                               data={\"apikey\": API_KEY, \"grant_type\": 'urn:ibm:params:oauth:grant-type:apikey'})\n",
    "\n",
    "mltoken = token_response.json()[\"access_token\"]\n",
    "\n",
    "header = {'Content-Type': 'application/json', 'Authorization': 'Bearer ' + mltoken}\n",
    "\n",
    "payload_scoring = {\"input_data\": [{\"fields\": [], \"values\": [img_arr.tolist()]}]}\n",
    "\n",
    "response_scoring = requests.post('https://eu-gb.ml.cloud.ibm.com/ml/v4/deployments/5f763653-3cbc-4dd9-82d2-abbb0621b021/predictions?version=2022-11-19', \n",
    "                                 json=payload_scoring, headers={'Authorization': 'Bearer ' + mltoken})"
   ]
  },
  {
   "cell_type": "markdown",
   "metadata": {},
   "source": [
    "### Display results"
   ]
  },
  {
   "cell_type": "code",
   "execution_count": 4,
   "metadata": {},
   "outputs": [
    {
     "data": {
      "image/png": "[encoded data removed]",
      "text/plain": [
       "<Figure size 640x480 with 1 Axes>"
      ]
     },
     "metadata": {},
     "output_type": "display_data"
    },
    {
     "name": "stdout",
     "output_type": "stream",
     "text": [
      "Result:  1\n"
     ]
    }
   ],
   "source": [
    "plt.imshow(plt.imread(\"./sample/sample.png\"))\n",
    "plt.axis('off')\n",
    "plt.show()\n",
    "print(\"Result: \", response_scoring.json()['predictions'][0]['values'][0][1])"
   ]
  }
 ],
 "metadata": {
  "kernelspec": {
   "display_name": "Python 3.10.8 ('ML')",
   "language": "python",
   "name": "python3"
  },
  "language_info": {
   "codemirror_mode": {
    "name": "ipython",
    "version": 3
   },
   "file_extension": ".py",
   "mimetype": "text/x-python",
   "name": "python",
   "nbconvert_exporter": "python",
   "pygments_lexer": "ipython3",
   "version": "3.10.8"
  },
  "orig_nbformat": 4,
  "vscode": {
   "interpreter": {
    "hash": "6c02a8bd40ddba90ee1222e34bb929027e24a92d74778c5b8cc5dbedd90efbf4"
   }
  }
 },
 "nbformat": 4,
 "nbformat_minor": 2
}
